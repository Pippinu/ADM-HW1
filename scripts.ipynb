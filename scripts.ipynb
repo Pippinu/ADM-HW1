{
 "cells": [
  {
   "cell_type": "markdown",
   "id": "306ae6a6",
   "metadata": {},
   "source": [
    "# **PROBLEM 1**"
   ]
  },
  {
   "cell_type": "markdown",
   "id": "02d43550",
   "metadata": {},
   "source": [
    "# **Introduction**"
   ]
  },
  {
   "cell_type": "markdown",
   "id": "fbfbb6aa",
   "metadata": {},
   "source": [
    "# Say \"Hello, World!\" With Python"
   ]
  },
  {
   "cell_type": "code",
   "execution_count": null,
   "id": "b252230f",
   "metadata": {},
   "outputs": [],
   "source": [
    "if __name__ == '__main__':\n",
    "    print(\"Hello, World!\")"
   ]
  },
  {
   "cell_type": "markdown",
   "id": "852d8217",
   "metadata": {},
   "source": [
    "# Python If-Else"
   ]
  },
  {
   "cell_type": "code",
   "execution_count": null,
   "id": "f0e6fa48",
   "metadata": {},
   "outputs": [],
   "source": [
    "#!/bin/python3\n",
    "import math\n",
    "import os\n",
    "import random\n",
    "import re\n",
    "import sys\n",
    "\n",
    "if __name__ == '__main__':\n",
    "    n = int(input().strip())\n",
    "    if n % 2 != 0:\n",
    "        print(\"Weird\")\n",
    "    else:\n",
    "        if n in range(2, 6):\n",
    "            print(\"Not Weird\")\n",
    "        if n in range(6, 21):\n",
    "            print(\"Weird\")\n",
    "        if n > 20:\n",
    "            print(\"Not Weird\")\n",
    "        \n"
   ]
  },
  {
   "cell_type": "markdown",
   "id": "32d70caf",
   "metadata": {},
   "source": [
    "# Arithmetic Operators"
   ]
  },
  {
   "cell_type": "code",
   "execution_count": null,
   "id": "f5789b89",
   "metadata": {},
   "outputs": [],
   "source": [
    "if __name__ == '__main__':\n",
    "    a = int(input())\n",
    "    b = int(input())\n",
    "    \n",
    "    print(a + b)\n",
    "    print(a - b)\n",
    "    print(a * b)\n"
   ]
  },
  {
   "cell_type": "markdown",
   "id": "08c29e1e",
   "metadata": {},
   "source": [
    "# Python: Division"
   ]
  },
  {
   "cell_type": "code",
   "execution_count": null,
   "id": "c251ad2f",
   "metadata": {},
   "outputs": [],
   "source": [
    "if __name__ == '__main__':\n",
    "    a = int(input())\n",
    "    b = int(input())\n",
    "    \n",
    "    print(a // b)\n",
    "    print(a / b)\n"
   ]
  },
  {
   "cell_type": "markdown",
   "id": "df488457",
   "metadata": {},
   "source": [
    "# Loops"
   ]
  },
  {
   "cell_type": "code",
   "execution_count": null,
   "id": "9facd61f",
   "metadata": {},
   "outputs": [],
   "source": [
    "if __name__ == '__main__':\n",
    "    n = int(input())\n",
    "    \n",
    "    for i in range(0, n):\n",
    "        if(i >= 0): print(pow(i, 2))\n"
   ]
  },
  {
   "cell_type": "markdown",
   "id": "9f40e510",
   "metadata": {},
   "source": [
    "# Write a function"
   ]
  },
  {
   "cell_type": "code",
   "execution_count": null,
   "id": "a230c5a1",
   "metadata": {},
   "outputs": [],
   "source": [
    "def is_leap(year):\n",
    "    leap = False\n",
    "    \n",
    "    # Write your logic here\n",
    "    \n",
    "    if year % 4 == 0:\n",
    "        if year % 100 == 0:\n",
    "            if year % 400 == 0:\n",
    "                leap = True\n",
    "        else: \n",
    "            leap = True\n",
    "            \n",
    "    return leap\n"
   ]
  },
  {
   "cell_type": "markdown",
   "id": "bddc7b90",
   "metadata": {},
   "source": [
    "# Print Function"
   ]
  },
  {
   "cell_type": "code",
   "execution_count": 2,
   "id": "a7110c26",
   "metadata": {},
   "outputs": [
    {
     "ename": "ValueError",
     "evalue": "invalid literal for int() with base 10: ''",
     "output_type": "error",
     "traceback": [
      "\u001b[1;31m---------------------------------------------------------------------------\u001b[0m",
      "\u001b[1;31mValueError\u001b[0m                                Traceback (most recent call last)",
      "Cell \u001b[1;32mIn[2], line 2\u001b[0m\n\u001b[0;32m      1\u001b[0m \u001b[38;5;28;01mif\u001b[39;00m \u001b[38;5;18m__name__\u001b[39m \u001b[38;5;241m==\u001b[39m \u001b[38;5;124m'\u001b[39m\u001b[38;5;124m__main__\u001b[39m\u001b[38;5;124m'\u001b[39m:\n\u001b[1;32m----> 2\u001b[0m     n \u001b[38;5;241m=\u001b[39m \u001b[38;5;28;43mint\u001b[39;49m\u001b[43m(\u001b[49m\u001b[38;5;28;43minput\u001b[39;49m\u001b[43m(\u001b[49m\u001b[43m)\u001b[49m\u001b[43m)\u001b[49m\n\u001b[0;32m      3\u001b[0m     strn \u001b[38;5;241m=\u001b[39m \u001b[38;5;124m\"\u001b[39m\u001b[38;5;124m\"\u001b[39m\n\u001b[0;32m      5\u001b[0m     \u001b[38;5;28;01mfor\u001b[39;00m i \u001b[38;5;129;01min\u001b[39;00m \u001b[38;5;28mrange\u001b[39m(\u001b[38;5;241m1\u001b[39m, n\u001b[38;5;241m+\u001b[39m\u001b[38;5;241m1\u001b[39m):\n",
      "\u001b[1;31mValueError\u001b[0m: invalid literal for int() with base 10: ''"
     ]
    }
   ],
   "source": [
    "if __name__ == '__main__':\n",
    "    n = int(input())\n",
    "    strn = \"\"\n",
    "    \n",
    "    for i in range(1, n+1):\n",
    "        strn = strn + str(i)\n",
    "    print(strn)        \n"
   ]
  },
  {
   "cell_type": "markdown",
   "id": "50ce4a54",
   "metadata": {},
   "source": [
    "# **Basic Data Types**"
   ]
  },
  {
   "cell_type": "markdown",
   "id": "6ea58b0e",
   "metadata": {},
   "source": [
    "# List Comprehensions"
   ]
  },
  {
   "cell_type": "code",
   "execution_count": null,
   "id": "0ec8f911",
   "metadata": {},
   "outputs": [],
   "source": [
    "if __name__ == '__main__':\n",
    "    x = int(input())\n",
    "    y = int(input())\n",
    "    z = int(input())\n",
    "    n = int(input())\n",
    "    \n",
    "    lst = []\n",
    "    \n",
    "    lst.extend([i, j, k] \n",
    "        for i in range(0, x+1) \n",
    "        for j in range(0, y+1) \n",
    "        for k in range(0, z+1)\n",
    "        if i+j+k != n)\n",
    "    \n",
    "    print(lst)\n"
   ]
  },
  {
   "cell_type": "markdown",
   "id": "b0f37c77",
   "metadata": {},
   "source": [
    "# Find the Runner-Up Score!"
   ]
  },
  {
   "cell_type": "code",
   "execution_count": null,
   "id": "49c9b3d0",
   "metadata": {},
   "outputs": [],
   "source": [
    "if __name__ == '__main__':\n",
    "    n = int(input())\n",
    "    arr = map(int, input().split())\n",
    "    lst = list(arr)\n",
    "    \n",
    "    maxN = max(lst)\n",
    "    # Due to costrains A[i] >= -100, initialize runnerUp to -101\n",
    "    runnerUp = -101\n",
    "    \n",
    "    for x in lst:\n",
    "        if x > runnerUp and x < maxN: runnerUp = x\n",
    "        \n",
    "    print(runnerUp)\n"
   ]
  },
  {
   "cell_type": "markdown",
   "id": "b864574e",
   "metadata": {},
   "source": [
    "# Nested Lists"
   ]
  },
  {
   "cell_type": "code",
   "execution_count": null,
   "id": "a009e7b3",
   "metadata": {},
   "outputs": [],
   "source": [
    "if __name__ == '__main__':\n",
    "    lst = []\n",
    "    # Initialized using high values so that they will be changed during first loops\n",
    "    lowestScore = 1000\n",
    "    secondScore = 999\n",
    "    \n",
    "    for _ in range(int(input())):\n",
    "        name = input()\n",
    "        score = float(input())\n",
    "        \n",
    "        lst.append([name, score])\n",
    "  \n",
    "    lst.sort(key=lambda x: x[1], reverse = True)\n",
    "    for name, score in lst:\n",
    "        if score < lowestScore: \n",
    "            secondScore = lowestScore\n",
    "            lowestScore = score\n",
    "        \n",
    "    # Initialize a list that will contain every student who share the same lowest score\n",
    "    lowestList = []\n",
    "        \n",
    "    for x, y in lst:\n",
    "        if y == secondScore: \n",
    "            lowestList.append(x)\n",
    "        \n",
    "    for x in sorted(lowestList):\n",
    "        print(x)\n"
   ]
  },
  {
   "cell_type": "markdown",
   "id": "a63e6d40",
   "metadata": {},
   "source": [
    "# Finding the percentage"
   ]
  },
  {
   "cell_type": "code",
   "execution_count": null,
   "id": "e719ca67",
   "metadata": {},
   "outputs": [],
   "source": [
    "if __name__ == '__main__':\n",
    "    n = int(input())\n",
    "\n",
    "    # Initialize dictionary \"student_name\" : [marks]\n",
    "    student_marks = {}\n",
    "    for _ in range(n):\n",
    "        name, *line = input().split()\n",
    "        scores = list(map(float, line))\n",
    "        student_marks[name] = scores\n",
    "    \n",
    "    # Input of student name to query\n",
    "    query_name = input()\n",
    "    \n",
    "    sums = 0\n",
    "    \n",
    "    for x in student_marks[query_name]:\n",
    "        sums += x\n",
    "        \n",
    "    # Print average formated to 2 decimals\n",
    "    print(format(sums / len(student_marks[query_name]), '.2f'))\n"
   ]
  },
  {
   "cell_type": "markdown",
   "id": "eadd7ed9",
   "metadata": {},
   "source": [
    "# Tuples"
   ]
  },
  {
   "cell_type": "code",
   "execution_count": null,
   "id": "bd820a27",
   "metadata": {},
   "outputs": [],
   "source": [
    "if __name__ == '__main__':\n",
    "    n = int(input())\n",
    "    integer_list = map(int, input().split())\n",
    "    \n",
    "    print(hash(tuple(integer_list)))\n"
   ]
  },
  {
   "cell_type": "markdown",
   "id": "c087e48d",
   "metadata": {},
   "source": [
    "# Lists"
   ]
  },
  {
   "cell_type": "code",
   "execution_count": null,
   "id": "e3f25399",
   "metadata": {},
   "outputs": [],
   "source": [
    "lst = []\n",
    "comm = None\n",
    "position = None\n",
    "value = None\n",
    "def command():\n",
    "    if comm == 'insert':\n",
    "        lst.insert(int(position), int(value))\n",
    "    elif comm == 'print':\n",
    "        print(lst)\n",
    "    elif comm == 'remove':\n",
    "        lst.remove(int(value))\n",
    "    elif comm == 'append':\n",
    "        lst.append(int(value))\n",
    "    elif comm == 'sort':\n",
    "        lst.sort()\n",
    "    elif comm == 'pop':\n",
    "        lst.pop()\n",
    "    elif comm == 'reverse':\n",
    "        lst.reverse()\n",
    "        \n",
    "if __name__ == '__main__':\n",
    "    N = int(input())\n",
    "    \n",
    "    for _ in range(N):\n",
    "        comm, *data = input().split()\n",
    "\n",
    "        # In each following cases, based on which case, value and position\n",
    "        # will be assigned in different way before command() function is \n",
    "        # called.\n",
    "        \n",
    "        # CASE 1: input like \"value position\"\n",
    "        if(len(data) == 2): \n",
    "            value = data.pop()\n",
    "            position = data.pop()\n",
    "            \n",
    "        # CASE 2: input like \"value\"\n",
    "        elif (len(data) == 1):\n",
    "            value = data.pop()\n",
    "            # Default value when there is no position value in input\n",
    "            position = -1 \n",
    "        \n",
    "        command()\n"
   ]
  },
  {
   "cell_type": "markdown",
   "id": "eb4ad493",
   "metadata": {},
   "source": [
    "# **Strings**"
   ]
  },
  {
   "cell_type": "markdown",
   "id": "c049b8c8",
   "metadata": {},
   "source": [
    "# sWAP cASE"
   ]
  },
  {
   "cell_type": "code",
   "execution_count": null,
   "id": "1ec46eb5",
   "metadata": {},
   "outputs": [],
   "source": [
    "def swap_case(s):\n",
    "    return s.swapcase()\n"
   ]
  },
  {
   "cell_type": "markdown",
   "id": "98f0f905",
   "metadata": {},
   "source": [
    "# String Split and Join"
   ]
  },
  {
   "cell_type": "code",
   "execution_count": null,
   "id": "b9418f1e",
   "metadata": {},
   "outputs": [],
   "source": [
    "\n",
    "def split_and_join(line):\n",
    "    # write your code here\n",
    "    line = line.split(\" \")\n",
    "    line = \"-\".join(line)\n",
    "    \n",
    "    return line\n",
    "if __name__ == '__main__':\n",
    "    line = input()\n",
    "    result = split_and_join(line)\n",
    "    print(result)\n"
   ]
  },
  {
   "cell_type": "markdown",
   "id": "cdf71ac5",
   "metadata": {},
   "source": [
    "# What's Your Name?"
   ]
  },
  {
   "cell_type": "code",
   "execution_count": null,
   "id": "c4604b82",
   "metadata": {},
   "outputs": [],
   "source": [
    "#\n",
    "# Complete the 'print_full_name' function below.\n",
    "#\n",
    "# The function is expected to return a STRING.\n",
    "# The function accepts following parameters:\n",
    "#  1. STRING first\n",
    "#  2. STRING last\n",
    "#\n",
    "def print_full_name(first, last):\n",
    "    # Write your code here\n",
    "    print(\"Hello \" + first + \" \" + last + \"! You just delved into python.\")\n"
   ]
  },
  {
   "cell_type": "markdown",
   "id": "2eceeb2d",
   "metadata": {},
   "source": [
    "# Mutations"
   ]
  },
  {
   "cell_type": "code",
   "execution_count": 1,
   "id": "4faee589",
   "metadata": {},
   "outputs": [],
   "source": [
    "def mutate_string(string, position, character):\n",
    "    \n",
    "    return string[:position] + character + string[position + 1:]\n"
   ]
  },
  {
   "cell_type": "markdown",
   "id": "2140eb7c",
   "metadata": {},
   "source": [
    "# Find a string"
   ]
  },
  {
   "cell_type": "code",
   "execution_count": null,
   "id": "cc374d39",
   "metadata": {},
   "outputs": [],
   "source": [
    "def count_substring(string, sub_string):\n",
    "    timesFound = 0\n",
    "    \n",
    "    # Iterate over each character of the string and every time the first char of the substring\n",
    "    # we are searching for is found, check if next len(substring) characters equals the substring\n",
    "    # we are searching for, in this case we increment the counter. \n",
    "    for index, x in enumerate(string):\n",
    "        if x == sub_string[0] and string[index:index+len(sub_string)] == sub_string:\n",
    "            timesFound += 1\n",
    "        \n",
    "            \n",
    "    return timesFound"
   ]
  },
  {
   "cell_type": "markdown",
   "id": "bfbe07d2",
   "metadata": {},
   "source": [
    "# String Validators"
   ]
  },
  {
   "cell_type": "code",
   "execution_count": null,
   "id": "386e5256",
   "metadata": {},
   "outputs": [],
   "source": [
    "def checkAlphaNum(s):\n",
    "    # Check if string has any alphanum char.\n",
    "    for c in s:\n",
    "        if(c.isalnum()):\n",
    "            return True\n",
    "    \n",
    "    return False\n",
    "def checkAlphabetical(s):\n",
    "    # Check if string has any alphabetical char.\n",
    "    for c in s:\n",
    "        if(c.isalpha()):\n",
    "            return True\n",
    "    \n",
    "    return False\n",
    "            \n",
    "def checkNumeric(s):\n",
    "    # Check if string has any numeric char.\n",
    "    for c in s:\n",
    "        if(c.isnumeric()):\n",
    "            return True\n",
    "    \n",
    "    return False\n",
    "def checkLowercase(s):\n",
    "    # Check if string has any uppercase char.\n",
    "    for c in s:\n",
    "        if(c.islower()):\n",
    "            return True\n",
    "    \n",
    "    return False\n",
    "def checkUppercase(s):\n",
    "    # Check if string has any uppercase char.\n",
    "    for c in s:\n",
    "        if(c.isupper()):\n",
    "            return True\n",
    "    \n",
    "    return False\n",
    "    \n",
    "if __name__ == '__main__':\n",
    "    s = input()\n",
    "    \n",
    "    print(checkAlphaNum(s))\n",
    "    \n",
    "    print(checkAlphabetical(s))\n",
    "    \n",
    "    print(checkNumeric(s))\n",
    "    \n",
    "    print(checkLowercase(s))\n",
    "    \n",
    "    print(checkUppercase(s))\n"
   ]
  },
  {
   "cell_type": "markdown",
   "id": "cb4af50f",
   "metadata": {},
   "source": [
    "# Text Alignment"
   ]
  },
  {
   "cell_type": "code",
   "execution_count": null,
   "id": "230d68a6",
   "metadata": {},
   "outputs": [],
   "source": [
    "#Replace all ______ with rjust, ljust or center. \n",
    "thickness = int(input()) #This must be an odd number\n",
    "c = 'H'\n",
    "#Top Cone\n",
    "for i in range(thickness):\n",
    "    print((c*i).rjust(thickness-1)+c+(c*i).ljust(thickness-1))\n",
    "#Top Pillars\n",
    "for i in range(thickness+1):\n",
    "    print((c*thickness).center(thickness*2)+(c*thickness).center(thickness*6))\n",
    "#Middle Belt\n",
    "for i in range((thickness+1)//2):\n",
    "    print((c*thickness*5).center(thickness*6))\n",
    "#Bottom Pillars\n",
    "for i in range(thickness+1):\n",
    "    print((c*thickness).center(thickness*2)+(c*thickness).center(thickness*6))\n",
    "#Bottom Cone\n",
    "for i in range(thickness):\n",
    "    print(((c*(thickness-i-1)).rjust(thickness)+c+(c*(thickness-i-1)).ljust(thickness)).rjust(thickness*6))"
   ]
  },
  {
   "cell_type": "markdown",
   "id": "5cd7c52b",
   "metadata": {},
   "source": [
    "# Designer Door Mat"
   ]
  },
  {
   "cell_type": "code",
   "execution_count": null,
   "id": "41b4d5bd",
   "metadata": {},
   "outputs": [],
   "source": [
    "# Enter your code here. Read input from STDIN. Print output to STDOUT\n",
    "data = input().split()\n",
    "N = int(data[0])\n",
    "M = int(data[1])\n",
    "triangle = \".|.\"\n",
    "i = 1\n",
    "while i < N:\n",
    "    print((triangle * i).center(M, '-'))\n",
    "    i += 2\n",
    "    \n",
    "print(\"WELCOME\".center(M, '-'))\n",
    "i -= 2\n",
    "while i > 0:\n",
    "    print((triangle * i).center(M, '-'))\n",
    "    i -= 2\n"
   ]
  },
  {
   "cell_type": "markdown",
   "id": "ff685df2",
   "metadata": {},
   "source": [
    "# String Formatting"
   ]
  },
  {
   "cell_type": "code",
   "execution_count": null,
   "id": "60008566",
   "metadata": {},
   "outputs": [],
   "source": [
    "def print_formatted(number):\n",
    "    # Calculate len of binary equivalent of the number, this will define the padding of the table\n",
    "    formattingLen = len(bin(number)[2:])\n",
    "    \n",
    "    # your code goes here\n",
    "\n",
    "    # For each equivalent, format using len just calcuted and create a string for each number\n",
    "    # from 1 to the input number \n",
    "    for i in range(1, number + 1):\n",
    "        print(\n",
    "            str(i).rjust(formattingLen, \" \") + \n",
    "            \" \" + \n",
    "            str(oct(i))[2:].rjust(formattingLen, \" \") + \n",
    "            \" \" +\n",
    "            str(hex(i))[2:].upper().rjust(formattingLen, \" \") + \n",
    "            \" \" +\n",
    "            str(bin(i))[2:].rjust(formattingLen, \" \")\n",
    "        )     \n",
    "        \n"
   ]
  },
  {
   "cell_type": "markdown",
   "id": "35bede48",
   "metadata": {},
   "source": [
    "# Alphabet Rangoli"
   ]
  },
  {
   "cell_type": "code",
   "execution_count": null,
   "id": "922d49f8",
   "metadata": {},
   "outputs": [],
   "source": [
    "def print_rangoli(size):\n",
    "    # your code goes here\n",
    "\n",
    "    # Calculate max width of rangoli\n",
    "    maxWidth = ((size * 2 - 1) + (size * 2 - 2)) \n",
    "    # Calculate last char (example, if given size is 5, last char is UNICODE of 'a' + 5 = 'e')\n",
    "    lastChar = chr(ord('a') + (size - 1))\n",
    "    \n",
    "    # List of strings to build\n",
    "    strnList = []\n",
    "    strToBuild = \"\"\n",
    "    \n",
    "    strnList.append(lastChar)\n",
    "    \n",
    "    # Iterate from 1 to size to create first half strings of the rangoli, each loop create\n",
    "    # a string of characters and lines \n",
    "    # (example, if given size is 5, strnList = ['e', 'e-d-e', 'e-d-c-d-e', 'e-d-c-b-c-d-e', 'e-d-c-b-a-b-c-d-e'])\n",
    "    for i in range (1, size):\n",
    "        \n",
    "        tempString = \"\"\n",
    "        \n",
    "        leftSliceString = strnList[len(strnList) - 1][(i*2-2):]\n",
    "        centerSliceString = chr(ord(lastChar) - i).center(3, \"-\")\n",
    "        rightSliceString = leftSliceString[::-1]\n",
    "        tempString += (rightSliceString + centerSliceString + leftSliceString)\n",
    "        \n",
    "        strnList.append(tempString)\n",
    "        \n",
    "    # Add padding \"-\" to each string of strnList so that every string is maxWidth size\n",
    "    # and then add to the strToBuild which is the rangoli string\n",
    "    # THIS IS THE FIRST HALF OF THE RANGOLI\n",
    "    for x in strnList:\n",
    "        strToBuild += (x.center(maxWidth, \"-\") + \"\\n\")\n",
    "        \n",
    "    # Remove last string which is the center string with every char from a to a+size\n",
    "    strnList.pop()\n",
    "        \n",
    "    # Add padding \"-\" to each string of reversed strnList so that every string is maxWidth size\n",
    "    # and then add to the strToBuild which is the rangoli string\n",
    "    # THIS IS THE SECOND HALF OF THE RANGOLI\n",
    "    for x in reversed(strnList):\n",
    "        strToBuild += (x.center(maxWidth, \"-\") + \"\\n\")\n",
    "        \n",
    "    print(strToBuild)\n"
   ]
  },
  {
   "cell_type": "markdown",
   "id": "8aab5c49",
   "metadata": {},
   "source": [
    "# Text Wrap"
   ]
  },
  {
   "cell_type": "code",
   "execution_count": null,
   "id": "84fe2000",
   "metadata": {},
   "outputs": [],
   "source": [
    "\n",
    "def wrap(string, max_width):\n",
    "    \n",
    "    lst = textwrap.wrap(string, width=max_width)\n",
    "    \n",
    "    # final string to fill with pieces of length 4 and to be returned in the end\n",
    "    s = \"\"\n",
    "    # length of the list of pieces\n",
    "    lenLst = len(lst)\n",
    "    \n",
    "    for idx, x in enumerate(lst): \n",
    "        # Add piece of lenght 4 to the final string\n",
    "        s += x\n",
    "        \n",
    "        # Add newline only if current piece is not the last one of the paragraph\n",
    "        if(idx < lenLst - 1): s += \"\\n\" \n",
    "        \n",
    "    return s\n"
   ]
  },
  {
   "cell_type": "markdown",
   "id": "dad2ea3b",
   "metadata": {},
   "source": [
    "# Capitalize!"
   ]
  },
  {
   "cell_type": "code",
   "execution_count": null,
   "id": "2d1fd9cc",
   "metadata": {},
   "outputs": [],
   "source": [
    "\n",
    "# Complete the solve function below.\n",
    "def solve(s):\n",
    "    checkValue = False\n",
    "    listString = list(s)\n",
    "    \n",
    "    for idx, c in enumerate(listString):\n",
    "        if(c.isalnum() and not checkValue):\n",
    "            listString[idx] = c.upper()\n",
    "            checkValue = True\n",
    "        \n",
    "        if(c.isspace()): checkValue = False\n",
    "        \n",
    "    return ''.join(listString)\n"
   ]
  },
  {
   "cell_type": "markdown",
   "id": "3c585cb2",
   "metadata": {},
   "source": [
    "# The Minion Game"
   ]
  },
  {
   "cell_type": "code",
   "execution_count": null,
   "id": "26ba3b40",
   "metadata": {},
   "outputs": [],
   "source": [
    "def minion_game(string):\n",
    "    # your code goes here\n",
    "    \n",
    "    vowels = ['A','E','I','O','U']\n",
    "    \n",
    "    stuartScore = 0\n",
    "    kevinScore = 0\n",
    "    \n",
    "    strnLen = len(string)\n",
    "    \n",
    "    # Iterate over the string to search indexes of consonants and vowels, \n",
    "    # from each char, exactly \"lenOfString - idxOfChar\" substring of 1, 2, ..., n size\n",
    "    # can be created, so add this value to stuart or kevin score.\n",
    "    for idx, i in enumerate(string):\n",
    "        # Add score to kevin if current char is a vowel\n",
    "        if(i in vowels): kevinScore += (strnLen - idx)\n",
    "        # Add score to stuart if current char is a consonant\n",
    "        else: stuartScore += (strnLen - idx)\n",
    "    \n",
    "    if stuartScore > kevinScore: print(\"Stuart\", stuartScore)\n",
    "    elif kevinScore > stuartScore: print(\"Kevin\", kevinScore)\n",
    "    else: print(\"Draw\")            \n"
   ]
  },
  {
   "cell_type": "markdown",
   "id": "4512db43",
   "metadata": {},
   "source": [
    "# Merge the Tools!"
   ]
  },
  {
   "cell_type": "code",
   "execution_count": null,
   "id": "bc6493ed",
   "metadata": {},
   "outputs": [],
   "source": [
    "def merge_the_tools(string, k):\n",
    "    # your code goes here\n",
    "    \n",
    "    i = 0\n",
    "    strnLen = len(string)\n",
    "\n",
    "    # List of lists of each unique character in every substring of length k\n",
    "    listOfLists = []\n",
    "    \n",
    "    while(i < strnLen):\n",
    "        # Append a list of unique characters, this list is created as a dictionary where\n",
    "        # where each key is a character of the substring so that every time a duplicate \n",
    "        # char is encountered, this will be ignored\n",
    "        listOfLists.append(list(dict.fromkeys(string[i:(i+k)])))\n",
    "        # Add k (sub string len) to the counter\n",
    "        i += k\n",
    "    \n",
    "    for x in listOfLists:\n",
    "        print(''.join(x))\n"
   ]
  },
  {
   "cell_type": "markdown",
   "id": "880bbeb3",
   "metadata": {},
   "source": [
    "# **Sets**"
   ]
  },
  {
   "cell_type": "markdown",
   "id": "954f454a",
   "metadata": {},
   "source": [
    "# Introduction to Sets"
   ]
  },
  {
   "cell_type": "code",
   "execution_count": null,
   "id": "488ab5c0",
   "metadata": {},
   "outputs": [],
   "source": [
    "def average(array):\n",
    "    # your code goes here\n",
    "    sArray = set(array)\n",
    "    return sum(sArray) / len(sArray)\n"
   ]
  },
  {
   "cell_type": "markdown",
   "id": "d19c5183",
   "metadata": {},
   "source": [
    "# No Idea!"
   ]
  },
  {
   "cell_type": "code",
   "execution_count": null,
   "id": "68835496",
   "metadata": {},
   "outputs": [],
   "source": [
    "# Enter your code here. Read input from STDIN. Print output to STDOUT\n",
    "\n",
    "# BINARY SEARCH FROM ChatGPT\n",
    "# Returns index of x in arr if present, else -1\n",
    "def binary_search(arr, low, high, x):\n",
    " \n",
    "    # Check base case\n",
    "    if high >= low:\n",
    " \n",
    "        mid = (high + low) // 2\n",
    " \n",
    "        # If element is present at the middle itself\n",
    "        if arr[mid] == x:\n",
    "            return mid\n",
    " \n",
    "        # If element is smaller than mid, then it can only\n",
    "        # be present in left subarray\n",
    "        elif arr[mid] > x:\n",
    "            return binary_search(arr, low, mid - 1, x)\n",
    " \n",
    "        # Else the element can only be present in right subarray\n",
    "        else:\n",
    "            return binary_search(arr, mid + 1, high, x)\n",
    " \n",
    "    else:\n",
    "        # Element is not present in the array\n",
    "        return -1\n",
    "    \n",
    "\n",
    "n, m = input().split()\n",
    "lst = list(map(int, input().split()))\n",
    "# Create group from string input\n",
    "groupA = list(map(int, input().split()))\n",
    "groupB = list(map(int, input().split()))\n",
    "# Sort each group so that binary search can be used on each group\n",
    "groupA.sort()\n",
    "groupB.sort()\n",
    "# Calculate each group length\n",
    "lenA = len(groupA)\n",
    "lenB = len(groupB)\n",
    "\n",
    "# Initialize happiness value to 0\n",
    "happiness = 0\n",
    "# Search every number in groups, if this is found in the first one increase happiness, \n",
    "# if in second, decrease happiness\n",
    "# Binary search is used so search is optimized to logarithmic time O(logn)\n",
    "for x in lst:\n",
    "    if binary_search(groupA, 0, lenA - 1, x) != -1: happiness += 1\n",
    "    elif binary_search(groupB, 0, lenB - 1, x) != -1: happiness -= 1\n",
    "print(happiness)\n"
   ]
  },
  {
   "cell_type": "markdown",
   "id": "c60df1f4",
   "metadata": {},
   "source": [
    "# Symmetric Difference"
   ]
  },
  {
   "cell_type": "code",
   "execution_count": null,
   "id": "11279dd4",
   "metadata": {},
   "outputs": [],
   "source": [
    "# Enter your code here. Read input from STDIN. Print output to STDOUT\n",
    "M = int(input())\n",
    "setA = set(map(int, input().split()))\n",
    "\n",
    "N = int(input())\n",
    "setB = set(map(int, input().split()))\n",
    "\n",
    "# Create symmetric difference of setA and setB\n",
    "simDiff = list(setA.symmetric_difference(setB))\n",
    "simDiff.sort()\n",
    "\n",
    "for x in simDiff: print(x)"
   ]
  },
  {
   "cell_type": "markdown",
   "id": "92d5eeb3",
   "metadata": {},
   "source": [
    "# Set .add()"
   ]
  },
  {
   "cell_type": "code",
   "execution_count": null,
   "id": "383a0c92",
   "metadata": {},
   "outputs": [],
   "source": [
    "# Enter your code here. Read input from STDIN. Print output to STDOUT\n",
    "N = int(input())\n",
    "\n",
    "# Initialize a set\n",
    "uniqueSet = set()\n",
    "# Add each input to the set, duplicate input will be ignored due to Set definiton\n",
    "for i in range(N): uniqueSet.add(input())\n",
    "\n",
    "print(len(uniqueSet))"
   ]
  },
  {
   "cell_type": "markdown",
   "id": "ee92905a",
   "metadata": {},
   "source": [
    "# Set .discard(), .remove() & .pop()"
   ]
  },
  {
   "cell_type": "code",
   "execution_count": null,
   "id": "5e30a6c2",
   "metadata": {},
   "outputs": [],
   "source": [
    "n = int(input())\n",
    "s = set(map(int, input().split()))\n",
    "# Command List Size\n",
    "M = int(input())\n",
    "\n",
    "elem = -1\n",
    "for i in range(M):\n",
    "    # Input commands\n",
    "    commands = input().split()\n",
    "    # Command POP\n",
    "    if(commands[0] == \"pop\"): s.pop()\n",
    "    # Command REMOVE\n",
    "    elif(commands[0] == \"remove\"): s.remove(int(commands[1]))\n",
    "    # Command DISCARD\n",
    "    else: s.discard(int(commands[1]))\n",
    "    \n",
    "print(sum(s))\n"
   ]
  },
  {
   "cell_type": "markdown",
   "id": "935564b0",
   "metadata": {},
   "source": [
    "# Set .union() Operation"
   ]
  },
  {
   "cell_type": "code",
   "execution_count": null,
   "id": "e6a3cc03",
   "metadata": {},
   "outputs": [],
   "source": [
    "# Enter your code here. Read input from STDIN. Print output to STDOUT\n",
    "n = int(input())\n",
    "engStuds = set(map(int, input().split()))\n",
    "\n",
    "m = int(input())\n",
    "frStuds = set(map(int, input().split()))\n",
    "\n",
    "unionSet = engStuds.union(frStuds)\n",
    "\n",
    "# Print size of union group\n",
    "print(len(unionSet))"
   ]
  },
  {
   "cell_type": "markdown",
   "id": "c9a80ca9",
   "metadata": {},
   "source": [
    "# Set .intersection() Operation"
   ]
  },
  {
   "cell_type": "code",
   "execution_count": null,
   "id": "1b854ae6",
   "metadata": {},
   "outputs": [],
   "source": [
    "# Enter your code here. Read input from STDIN. Print output to STDOUT\n",
    "n = input()\n",
    "enStuds = set(input().split())\n",
    "\n",
    "m = input()\n",
    "frStuds = set(input().split())\n",
    "\n",
    "# Print size of intersection group\n",
    "print(len(enStuds.intersection(frStuds)))"
   ]
  },
  {
   "cell_type": "markdown",
   "id": "59f8088d",
   "metadata": {},
   "source": [
    "# Set .difference() Operation"
   ]
  },
  {
   "cell_type": "code",
   "execution_count": null,
   "id": "a1eebac9",
   "metadata": {},
   "outputs": [],
   "source": [
    "# Enter your code here. Read input from STDIN. Print output to STDOUT\n",
    "n = input()\n",
    "enStuds = set(input().split())\n",
    "\n",
    "m = input()\n",
    "frStuds = set(input().split())\n",
    "\n",
    "# Print size of difference group\n",
    "print(len(enStuds.difference(frStuds)))\n"
   ]
  },
  {
   "cell_type": "markdown",
   "id": "5149b11c",
   "metadata": {},
   "source": [
    "# Set .symmetric_difference() Operation"
   ]
  },
  {
   "cell_type": "code",
   "execution_count": null,
   "id": "1673f1e6",
   "metadata": {},
   "outputs": [],
   "source": [
    "# Enter your code here. Read input from STDIN. Print output to STDOUT\n",
    "n = input()\n",
    "enStuds = set(input().split())\n",
    "m = input()\n",
    "frStuds = set(input().split())\n",
    "\n",
    "# Print size of symmetric difference group\n",
    "print(len(enStuds.symmetric_difference(frStuds)))\n"
   ]
  },
  {
   "cell_type": "markdown",
   "id": "e3ca7f0b",
   "metadata": {},
   "source": [
    "# Set Mutations"
   ]
  },
  {
   "cell_type": "code",
   "execution_count": null,
   "id": "b0c88073",
   "metadata": {},
   "outputs": [],
   "source": [
    "# Enter your code here. Read input from STDIN. Print output to STDOUT\n",
    "n = input()\n",
    "numSet = set(input().split())\n",
    "# Number of remaining sets\n",
    "m = int(input())\n",
    "for i in range(m):\n",
    "    command, comLen = input().split()\n",
    "    \n",
    "    if(command == \"intersection_update\"): numSet.intersection_update(input().split())\n",
    "    elif(command == \"difference_update\"): numSet.difference_update(input().split())\n",
    "    elif(command == \"update\"): numSet.update(input().split())\n",
    "    else: numSet.symmetric_difference_update(input().split())\n",
    "    \n",
    "print(sum(map(int, numSet)))\n",
    "    \n"
   ]
  },
  {
   "cell_type": "markdown",
   "id": "ed2129de",
   "metadata": {},
   "source": [
    "# The Captain's Room"
   ]
  },
  {
   "cell_type": "code",
   "execution_count": null,
   "id": "1c8a95b2",
   "metadata": {},
   "outputs": [],
   "source": [
    "# Enter your code here. Read input from STDIN. Print output to STDOUT\n",
    "n = int(input())\n",
    "numList = list(map(int, input().split()))\n",
    "\n",
    "# Create a dictionary, every number is a key and each values is how many times this\n",
    "# number is in the input list, captain number is the only one with value = 1\n",
    "numDict = {}\n",
    "for x in numList:\n",
    "    if(numDict.get(x) == None): numDict[x] = 1\n",
    "    else: numDict[x] += 1\n",
    "    \n",
    "# Search for captain value\n",
    "for key, value in numDict.items():\n",
    "    if(value == 1):\n",
    "        print(key)\n",
    "        break\n"
   ]
  },
  {
   "cell_type": "markdown",
   "id": "a51d7c60",
   "metadata": {},
   "source": [
    "# Check Subset"
   ]
  },
  {
   "cell_type": "code",
   "execution_count": null,
   "id": "fa319769",
   "metadata": {},
   "outputs": [],
   "source": [
    "# Enter your code here. Read input from STDIN. Print output to STDOUT\n",
    "\n",
    "# Number of test sets\n",
    "n = int(input())\n",
    "# Iterate over the sets\n",
    "for i in range(n):\n",
    "    # Number of elem in setA\n",
    "    m = int(input())\n",
    "    setA = set(input().split())\n",
    "    # Number of elem in setB\n",
    "    k = int(input())\n",
    "    setB = set(input().split())\n",
    "    \n",
    "    if(len(setA.difference(setB)) == 0): print(True)\n",
    "    else: print(False)\n"
   ]
  },
  {
   "cell_type": "markdown",
   "id": "72db0c5d",
   "metadata": {},
   "source": [
    "# Check Strict Superset"
   ]
  },
  {
   "cell_type": "code",
   "execution_count": null,
   "id": "bb25bd64",
   "metadata": {},
   "outputs": [],
   "source": [
    "# Enter your code here. Read input from STDIN. Print output to STDOUT\n",
    "# setA input\n",
    "setA = set(input().split())\n",
    "# Number of subset to test\n",
    "n = int(input())\n",
    "\n",
    "# Initialize checkValue to True so that if condition are violated, this will be set to False\n",
    "checkValue = True\n",
    "for i in range(n):\n",
    "    testSet = set(input().split())\n",
    "    \n",
    "    if(len(testSet.difference(setA)) != 0 or len(setA.difference(testSet)) == 0):\n",
    "        checkValue = False\n",
    "        break\n",
    "        \n",
    "print(checkValue)\n"
   ]
  },
  {
   "cell_type": "markdown",
   "id": "66e8b87c",
   "metadata": {},
   "source": [
    "# **Collections**"
   ]
  },
  {
   "cell_type": "markdown",
   "id": "0f120cb3",
   "metadata": {},
   "source": [
    "# collections.Counter()"
   ]
  },
  {
   "cell_type": "code",
   "execution_count": null,
   "id": "8b580835",
   "metadata": {},
   "outputs": [],
   "source": [
    "# Enter your code here. Read input from STDIN. Print output to STDOUT\n",
    "from collections import Counter\n",
    "# Number of shoes\n",
    "n = int(input())\n",
    "# Colletion of number of shoes and how many of them\n",
    "shoesColl = Counter(input().split())\n",
    "# Number of customers\n",
    "m = int(input())\n",
    "\n",
    "# Initialize total profit to 0\n",
    "totalEarning = 0\n",
    "\n",
    "for i in range(m):\n",
    "    size, price = map(int, input().split())\n",
    "    # If shoes of given size still available (value != 0), add price to profit and \n",
    "    # decrease quantity\n",
    "    if(shoesColl[str(size)] != 0):\n",
    "        totalEarning += price\n",
    "        shoesColl[str(size)] -= 1\n",
    "        \n",
    "print(totalEarning)"
   ]
  },
  {
   "cell_type": "markdown",
   "id": "c6ee2f2e",
   "metadata": {},
   "source": [
    "# DefaultDict Tutorial"
   ]
  },
  {
   "cell_type": "code",
   "execution_count": null,
   "id": "01b0f695",
   "metadata": {},
   "outputs": [],
   "source": [
    "# Enter your code here. Read input from STDIN. Print output to STDOUT\n",
    "from collections import defaultdict\n",
    "d = defaultdict(list)\n",
    "# Sizes of groupA and groupB\n",
    "n, m = map(int, input().split())\n",
    "\n",
    "for i in range(n):\n",
    "    d[input()].append(i + 1)\n",
    "    \n",
    "for i in range(m):\n",
    "    val = input()\n",
    "    exitString = ''\n",
    "    \n",
    "    if len(d[val]) == 0:\n",
    "        print(-1)\n",
    "    else:\n",
    "        for x in d[val]:\n",
    "            exitString += (str(x) + ' ')\n",
    "        \n",
    "        print(exitString)\n"
   ]
  },
  {
   "cell_type": "markdown",
   "id": "fcd3c43a",
   "metadata": {},
   "source": [
    "# Collections.namedtuple()"
   ]
  },
  {
   "cell_type": "code",
   "execution_count": null,
   "id": "a5c7dfc6",
   "metadata": {},
   "outputs": [],
   "source": [
    "# Enter your code here. Read input from STDIN. Print output to STDOUT\n",
    "from collections import namedtuple\n",
    "\n",
    "# FIRST SOLUTION\n",
    "# # Number of students\n",
    "# n = int(input())\n",
    "\n",
    "# # List of dictionary of students information\n",
    "# lstOfStudents = []\n",
    "\n",
    "# # List of columns name\n",
    "# colList = input().split()\n",
    "\n",
    "# # Namedtuple\n",
    "# Student = namedtuple('Student', ''.join((x + ' ') for x in colList))\n",
    "\n",
    "# # Fill the list of dictionary with info given from STDIN\n",
    "# for i in range(n):\n",
    "#     values = input().split()\n",
    "#     lstOfStudents.append({\n",
    "#         colList[0]: values[0],\n",
    "#         colList[1]: values[1],\n",
    "#         colList[2]: values[2],\n",
    "#         colList[3]: values[3]\n",
    "#     })\n",
    "    \n",
    "# sum = 0\n",
    "# for x in lstOfStudents:\n",
    "#     sum += int(x['MARKS'])\n",
    "# print(sum/n)\n",
    "\n",
    "\n",
    "# MY SOLUTION IN 4 LINES BUT WITHOUT NAMEDTUPLE (6 actually)\n",
    "n = int(input())\n",
    "colNames = input().split()\n",
    "\n",
    "# Initilize sum to 0\n",
    "sum = 0\n",
    "for i in range(n):\n",
    "    sum += int((input().split())[colNames.index('MARKS')])\n",
    "    \n",
    "print(sum / n)"
   ]
  },
  {
   "cell_type": "markdown",
   "id": "fc6805a8",
   "metadata": {},
   "source": [
    "# Collections.OrderedDict()"
   ]
  },
  {
   "cell_type": "code",
   "execution_count": null,
   "id": "f915799c",
   "metadata": {},
   "outputs": [],
   "source": [
    "# Enter your code here. Read input from STDIN. Print output to STDOUT\n",
    "from collections import OrderedDict\n",
    "n = int(input())\n",
    "\n",
    "ordDic = OrderedDict()\n",
    "\n",
    "for i in range(n):\n",
    "    item, price = input().rsplit(\" \", 1)\n",
    "    # Initialize item in ordered dictionary only if this is not already present in the \n",
    "    # dictionary, instead, if already present, add price\n",
    "    ordDic[item] = int(price) if ordDic.get(item) is None else ordDic[item] + int(price)\n",
    "    \n",
    "# Print each item and its value\n",
    "for x, y in ordDic.items():\n",
    "    print(x, y)"
   ]
  },
  {
   "cell_type": "markdown",
   "id": "5a181f5d",
   "metadata": {},
   "source": [
    "# Word Order"
   ]
  },
  {
   "cell_type": "code",
   "execution_count": null,
   "id": "36fd2cea",
   "metadata": {},
   "outputs": [],
   "source": [
    "# Enter your code here. Read input from STDIN. Print output to STDOUT\n",
    "from collections import OrderedDict\n",
    "ordDic = OrderedDict()\n",
    "n = int(input())\n",
    "\n",
    "# Same strategy as latter exercise, if word not present in dictionary, initialize its value to 1\n",
    "# if present, instead, increase its value of 1\n",
    "for i in range(n):\n",
    "    item = input()\n",
    "    ordDic[item] = 1 if ordDic.get(item) is None else ordDic[item] + 1\n",
    "    \n",
    "print(len(ordDic))\n",
    "print(' '.join(map(str, ordDic.values())))\n"
   ]
  },
  {
   "cell_type": "markdown",
   "id": "aaa494a9",
   "metadata": {},
   "source": [
    "# Collections.deque()"
   ]
  },
  {
   "cell_type": "code",
   "execution_count": null,
   "id": "99216bf0",
   "metadata": {},
   "outputs": [],
   "source": [
    "# Enter your code here. Read input from STDIN. Print output to STDOUT\n",
    "from collections import deque\n",
    "\n",
    "n = int(input())\n",
    "d = deque()\n",
    "\n",
    "for i in range(n):\n",
    "    values = input().split()\n",
    "    \n",
    "    # Command APPEND\n",
    "    if(values[0] == 'append'):\n",
    "        d.append(int(values[1]))\n",
    "    # Command POP\n",
    "    if(values[0] == 'pop'):\n",
    "        d.pop()\n",
    "    # Command POP LEFT\n",
    "    if(values[0] == 'popleft'):\n",
    "        d.popleft()\n",
    "    \n",
    "    # Command APPEND LEFT\n",
    "    if(values[0] == 'appendleft'):\n",
    "        d.appendleft(int(values[1]))\n",
    "        \n",
    "print(' '.join(map(str, d)))\n"
   ]
  },
  {
   "cell_type": "markdown",
   "id": "e06f0109",
   "metadata": {},
   "source": [
    "# Company Logo"
   ]
  },
  {
   "cell_type": "code",
   "execution_count": null,
   "id": "c1474fde",
   "metadata": {},
   "outputs": [],
   "source": [
    "#!/bin/python3\n",
    "import math\n",
    "import os\n",
    "import random\n",
    "import re\n",
    "import sys\n",
    "from collections import Counter\n",
    "if __name__ == '__main__':\n",
    "    s = Counter(list(input()))\n",
    "    \n",
    "    # Searched online how to sort list of tuples by second element and by\n",
    "    # first only if every second element is the same\n",
    "    for x, y in sorted(s.items(), key=lambda el: (-el[1], el[0]))[:3]:\n",
    "        print(x, y)\n"
   ]
  },
  {
   "cell_type": "markdown",
   "id": "23630247",
   "metadata": {},
   "source": [
    "# Piling Up!"
   ]
  },
  {
   "cell_type": "code",
   "execution_count": null,
   "id": "51448d0a",
   "metadata": {},
   "outputs": [],
   "source": [
    "# Enter your code here. Read input from STDIN. Print output to STDOUT\n",
    "# Input number of test sets\n",
    "n = int(input())\n",
    "# Iterate over every set\n",
    "for i in range(n):\n",
    "    # Input number of element in the current test set\n",
    "    m = int(input())\n",
    "    # Create a list using elements of the current test set\n",
    "    lst = list(map(int, input().split()))\n",
    "    # Create idx to iterate from left or right\n",
    "    leftIdx, rightIdx = 0, len(lst) - 1\n",
    "    \n",
    "    # Pick first biggest item from left or right of the list\n",
    "    if lst[leftIdx] >= lst[rightIdx]:\n",
    "        lastPicked = lst[leftIdx]\n",
    "        leftIdx += 1\n",
    "    else:\n",
    "        lastPicked = lst[rightIdx]\n",
    "        rightIdx -= 1\n",
    "           \n",
    "    # Boolean used at the end of the loop to check correctness of the test\n",
    "    checkValue = True\n",
    "    \n",
    "    # Test the set\n",
    "    for j in range(m - 2):\n",
    "        if lst[leftIdx] >= lst[rightIdx]:\n",
    "            pick = lst[leftIdx]\n",
    "            leftIdx += 1\n",
    "        else:\n",
    "            pick = lst[rightIdx]\n",
    "            rightIdx -= 1\n",
    "        \n",
    "        # Check if the current pick is bigger than last pick, if so problem end\n",
    "        if pick > lastPicked:\n",
    "            checkValue = False\n",
    "            break\n",
    "        \n",
    "        lastPicked = pick\n",
    "        \n",
    "    print(\"Yes\") if checkValue else print(\"No\")\n"
   ]
  },
  {
   "cell_type": "markdown",
   "id": "1fec248a",
   "metadata": {},
   "source": [
    "# **Date and time**"
   ]
  },
  {
   "cell_type": "markdown",
   "id": "dc858861",
   "metadata": {},
   "source": [
    "# Calendar Module"
   ]
  },
  {
   "cell_type": "code",
   "execution_count": null,
   "id": "1f20ec59",
   "metadata": {},
   "outputs": [],
   "source": [
    "# Enter your code here. Read input from STDIN. Print output to STDOUT\n",
    "import calendar\n",
    "month, day, year = map(int, input().split())\n",
    "print(calendar.day_name[calendar.weekday(year, month, day)].upper())\n"
   ]
  },
  {
   "cell_type": "markdown",
   "id": "3aa8850e",
   "metadata": {},
   "source": [
    "# Time Delta"
   ]
  },
  {
   "cell_type": "code",
   "execution_count": null,
   "id": "f4cb6810",
   "metadata": {},
   "outputs": [],
   "source": [
    "#!/bin/python3\n",
    "import math\n",
    "import os\n",
    "import random\n",
    "import re\n",
    "import sys\n",
    "from datetime import datetime as dt\n",
    "from dateutil import tz\n",
    "\n",
    "# Complete the time_delta function below.\n",
    "def time_delta(t1, t2):\n",
    "        \n",
    "    # 0 Day Name\n",
    "    # 1 Day Number\n",
    "    # 2 Month Name\n",
    "    # 3 Year Number\n",
    "    # 4 HH:MM:SS\n",
    "    # 5 TimeZone\n",
    "    \n",
    "    time1 = list(t1.split())\n",
    "    time2 = list(t2.split())\n",
    "        \n",
    "    # Convert the given string in datetime timestamp to be used with datetime library\n",
    "    dt1 = dt.strptime(\" \".join(time1[1:]), '%d %b %Y %H:%M:%S %z')\n",
    "    dt2 = dt.strptime(\" \".join(time2[1:]), '%d %b %Y %H:%M:%S %z')\n",
    "    \n",
    "    # Return date difference in seconds in string format\n",
    "    return str(abs(int((dt1-dt2).total_seconds())))\n",
    "if __name__ == '__main__':\n",
    "    fptr = open(os.environ['OUTPUT_PATH'], 'w')\n",
    "    t = int(input())\n",
    "    for t_itr in range(t):\n",
    "        t1 = input()\n",
    "        t2 = input()\n",
    "        delta = time_delta(t1, t2)\n",
    "        fptr.write(delta + '\\n')\n",
    "    fptr.close()\n"
   ]
  },
  {
   "cell_type": "markdown",
   "id": "402d8caa",
   "metadata": {},
   "source": [
    "# **Errors and Exceptions**"
   ]
  },
  {
   "cell_type": "markdown",
   "id": "e81b2dcf",
   "metadata": {},
   "source": [
    "# Exceptions"
   ]
  },
  {
   "cell_type": "code",
   "execution_count": null,
   "id": "55f2451d",
   "metadata": {},
   "outputs": [],
   "source": [
    "# Enter your code here. Read input from STDIN. Print output to STDOUT\n",
    "n = int(input())\n",
    "for i in range(n):\n",
    "    a, b = input().split()\n",
    "    \n",
    "    try:\n",
    "        a = int(a)\n",
    "    except ValueError:\n",
    "        print(\"Error Code: invalid literal for int() with base 10:\", \"'\" + a + \"'\")\n",
    "        \n",
    "    try:\n",
    "        b = int(b)\n",
    "    except ValueError:\n",
    "        print(\"Error Code: invalid literal for int() with base 10:\", \"'\" + b + \"'\")\n",
    "        \n",
    "    try:\n",
    "        print(a//b)\n",
    "    except ZeroDivisionError:\n",
    "        print(\"Error Code: integer division or modulo by zero\")\n",
    "    except TypeError:\n",
    "        pass\n"
   ]
  },
  {
   "cell_type": "markdown",
   "id": "be646572",
   "metadata": {},
   "source": [
    "# **Built-Ins**"
   ]
  },
  {
   "cell_type": "markdown",
   "id": "ca4f24f8",
   "metadata": {},
   "source": [
    "# Zipped!"
   ]
  },
  {
   "cell_type": "code",
   "execution_count": null,
   "id": "842874af",
   "metadata": {},
   "outputs": [],
   "source": [
    "# Enter your code here. Read input from STDIN. Print output to STDOUT\n",
    "# Size of sets and number of sets\n",
    "n, m = map(int, input().split())\n",
    "# Create list to store input data\n",
    "lst = []\n",
    "for i in range(m):\n",
    "    lst.append(map(float, input().split()))\n",
    "# Zip the list and convert back to get all marks of single students\n",
    "# Print the average\n",
    "for x in list(zip(*lst)):\n",
    "    print(sum(x) / m)\n"
   ]
  },
  {
   "cell_type": "markdown",
   "id": "b8be75eb",
   "metadata": {},
   "source": [
    "# Athlete Sort"
   ]
  },
  {
   "cell_type": "code",
   "execution_count": null,
   "id": "dc0b2d7a",
   "metadata": {},
   "outputs": [],
   "source": [
    "#!/bin/python3\n",
    "import math\n",
    "import os\n",
    "import random\n",
    "import re\n",
    "import sys\n",
    "def sort_ath(arr, k):\n",
    "    \n",
    "    # Sort by k-th element of the entries in the list\n",
    "    for x in sorted(arr, key=lambda el: el[k]):\n",
    "        print(*x)\n",
    "    return\n",
    "if __name__ == '__main__':\n",
    "    nm = input().split()\n",
    "    n = int(nm[0])\n",
    "    m = int(nm[1])\n",
    "    arr = []\n",
    "    for _ in range(n):\n",
    "        arr.append(list(map(int, input().rstrip().split())))\n",
    "    k = int(input())\n",
    "    \n",
    "    sort_ath(arr, k)\n"
   ]
  },
  {
   "cell_type": "markdown",
   "id": "22e7a764",
   "metadata": {},
   "source": [
    "# ginortS"
   ]
  },
  {
   "cell_type": "code",
   "execution_count": null,
   "id": "1abaed27",
   "metadata": {},
   "outputs": [],
   "source": [
    "# Enter your code here. Read input from STDIN. Print output to STDOUT\n",
    "strn = input()\n",
    "# List of different type of characters\n",
    "lstLower = []\n",
    "lstUpper = []\n",
    "lstEven = []\n",
    "lstOdd = []\n",
    "# Split different type of characters\n",
    "for c in strn:\n",
    "    if c.isalpha():\n",
    "        if c.isupper():\n",
    "            lstUpper.append(c)\n",
    "        else:\n",
    "            lstLower.append(c)\n",
    "    elif int(c) % 2:\n",
    "        lstOdd.append(c)\n",
    "    else:\n",
    "        lstEven.append(c)\n",
    "        \n",
    "# Sort every list and add to a common list\n",
    "listOfLists = list(map(sorted, [lstLower, lstUpper, lstOdd, lstEven]))\n",
    "strn = ''\n",
    "# Merge the lists into a string\n",
    "for x in listOfLists:\n",
    "    strn += ''.join(x)\n",
    "    \n",
    "print(strn)\n"
   ]
  },
  {
   "cell_type": "markdown",
   "id": "a6f5a896",
   "metadata": {},
   "source": [
    "# **Python Functionals**"
   ]
  },
  {
   "cell_type": "markdown",
   "id": "fb0d3365",
   "metadata": {},
   "source": [
    "# Map and Lambda Function"
   ]
  },
  {
   "cell_type": "code",
   "execution_count": null,
   "id": "11596b62",
   "metadata": {},
   "outputs": [],
   "source": [
    "cube = lambda x: pow(x, 3)# complete the lambda function \n",
    "# Fibonacci function from CHATGPT\n",
    "def fibonacci(n):\n",
    "    # return a list of fibonacci numbers\n",
    "    fib_list = [0, 1]\n",
    "    for _ in range(2, n):\n",
    "        fib_list.append(fib_list[-1] + fib_list[-2])\n",
    "    return fib_list[:n]\n"
   ]
  },
  {
   "cell_type": "markdown",
   "id": "ae2d0a0c",
   "metadata": {},
   "source": [
    "# **XML**"
   ]
  },
  {
   "cell_type": "markdown",
   "id": "8737403c",
   "metadata": {},
   "source": [
    "# XML 1 - Find the Score"
   ]
  },
  {
   "cell_type": "code",
   "execution_count": null,
   "id": "0416713c",
   "metadata": {},
   "outputs": [],
   "source": [
    "\n",
    "def get_attr_number(node):\n",
    "    # your code goes here\n",
    "    \n",
    "    sums = 0\n",
    "    sums += len(node.attrib)\n",
    "    \n",
    "    # Sum number of attributes of every child\n",
    "    for child in node:\n",
    "        sums += len(child.attrib)\n",
    "        \n",
    "        # In case child has childs too, sums these childs elements\n",
    "        for nestChild in child:\n",
    "            sums += len(nestChild.attrib)\n",
    "        \n",
    "    return sums\n"
   ]
  },
  {
   "cell_type": "markdown",
   "id": "190751aa",
   "metadata": {},
   "source": [
    "# XML2 - Find the Maximum Depth"
   ]
  },
  {
   "cell_type": "code",
   "execution_count": null,
   "id": "bbfca406",
   "metadata": {},
   "outputs": [],
   "source": [
    "\n",
    "def nestDept(el, level):\n",
    "    \n",
    "    currentMaxDep = 0\n",
    "    maxdepth = level\n",
    "    \n",
    "    # Check if nested elem of current node exist, if not catch the Error\n",
    "    # and return current level, if instead it exists recursively search\n",
    "    # for deeper level\n",
    "    try:\n",
    "        if el[0] is not None:\n",
    "            for node in el:\n",
    "                currentMaxDep = nestDept(node, level + 1)\n",
    "                if currentMaxDep > maxdepth:\n",
    "                    maxdepth = currentMaxDep\n",
    "    except IndexError:\n",
    "        return level\n",
    "        \n",
    "    return maxdepth\n",
    "maxdepth = 0\n",
    "def depth(elem, level):\n",
    "    global maxdepth\n",
    "    currentMaxDep = 0\n",
    "    # your code goes here\n",
    "    \n",
    "    for node in elem:\n",
    "        currentMaxDep = nestDept(node, 1)\n",
    "        \n",
    "        if maxdepth < currentMaxDep:\n",
    "            maxdepth = currentMaxDep\n",
    "        \n",
    "    return maxdepth\n"
   ]
  },
  {
   "cell_type": "markdown",
   "id": "70ab1e88",
   "metadata": {},
   "source": [
    "# **Numpy**"
   ]
  },
  {
   "cell_type": "markdown",
   "id": "02793682",
   "metadata": {},
   "source": [
    "# Arrays"
   ]
  },
  {
   "cell_type": "code",
   "execution_count": null,
   "id": "50e9006e",
   "metadata": {},
   "outputs": [],
   "source": [
    "import numpy\n",
    "\n",
    "def arrays(arr):\n",
    "    # complete this function\n",
    "    return numpy.array(list(reversed(arr)), float)"
   ]
  },
  {
   "cell_type": "markdown",
   "id": "9abb048c",
   "metadata": {},
   "source": [
    "# Shape and Reshape"
   ]
  },
  {
   "cell_type": "code",
   "execution_count": null,
   "id": "9a364138",
   "metadata": {},
   "outputs": [],
   "source": [
    "import numpy\n",
    "change_array = numpy.array(input().split(), int)\n",
    "print(change_array.reshape(3, 3))"
   ]
  },
  {
   "cell_type": "markdown",
   "id": "bb52ecb7",
   "metadata": {},
   "source": [
    "# Transpose and Flatten"
   ]
  },
  {
   "cell_type": "code",
   "execution_count": null,
   "id": "ded83412",
   "metadata": {},
   "outputs": [],
   "source": [
    "import numpy as np\n",
    "n, m = map(int, input().split())\n",
    "\n",
    "# lst = []\n",
    "# for i in range(n):\n",
    "#     lst.append(input().split())\n",
    "    \n",
    "# arr = numpy.array(lst, int)\n",
    "\n",
    "# Solution of my code written above simplified by ChatGPT\n",
    "arr = np.array([input().split() for _ in range(n)], int)\n",
    "    \n",
    "print(arr.transpose())\n",
    "print(arr.flatten())"
   ]
  },
  {
   "cell_type": "markdown",
   "id": "de1c8dcc",
   "metadata": {},
   "source": [
    "# Concatenate"
   ]
  },
  {
   "cell_type": "code",
   "execution_count": null,
   "id": "15d5350d",
   "metadata": {},
   "outputs": [],
   "source": [
    "import numpy as np\n",
    "n, m, p = map(int, input().split())\n",
    "print(np.array([input().split() for _ in range(n + m)], int))\n"
   ]
  },
  {
   "cell_type": "markdown",
   "id": "cee28a91",
   "metadata": {},
   "source": [
    "# Zeros and Ones"
   ]
  },
  {
   "cell_type": "code",
   "execution_count": null,
   "id": "bf50eb72",
   "metadata": {},
   "outputs": [],
   "source": [
    "import numpy as np\n",
    "values = list(map(int, input().split()))\n",
    "print(np.zeros([x for x in values], int))\n",
    "print(np.ones([x for x in values], int))\n"
   ]
  },
  {
   "cell_type": "markdown",
   "id": "85ebb543",
   "metadata": {},
   "source": [
    "# Eye and Identity"
   ]
  },
  {
   "cell_type": "code",
   "execution_count": null,
   "id": "41168b20",
   "metadata": {},
   "outputs": [],
   "source": [
    "import numpy\n",
    "numpy.set_printoptions(legacy='1.13')\n",
    "n, m = map(int, input().split())\n",
    "print(numpy.eye(n, m))\n"
   ]
  },
  {
   "cell_type": "markdown",
   "id": "50abcedc",
   "metadata": {},
   "source": [
    "# Array Mathematics"
   ]
  },
  {
   "cell_type": "code",
   "execution_count": null,
   "id": "c898a1d1",
   "metadata": {},
   "outputs": [],
   "source": [
    "import numpy\n",
    "n, m = map(int, input().split())\n",
    "a = numpy.array([list(map(int, input().split())) for _ in range(n)])\n",
    "b = numpy.array([list(map(int, input().split())) for _ in range(n)])\n",
    "\n",
    "print(numpy.add(a, b))\n",
    "\n",
    "print(numpy.subtract(a, b))\n",
    "\n",
    "print(numpy.multiply(a, b))\n",
    "\n",
    "print(numpy.array(a // b))\n",
    "\n",
    "print(numpy.mod(a, b))\n",
    "\n",
    "print(numpy.power(a, b))"
   ]
  },
  {
   "cell_type": "markdown",
   "id": "d8f64aa0",
   "metadata": {},
   "source": [
    "# Floor, Ceil and Rint"
   ]
  },
  {
   "cell_type": "code",
   "execution_count": null,
   "id": "faa49dcb",
   "metadata": {},
   "outputs": [],
   "source": [
    "import numpy\n",
    "numpy.set_printoptions(legacy='1.13')\n",
    "arr = numpy.array(input().split(), float)\n",
    "\n",
    "print(numpy.floor(arr))\n",
    "\n",
    "print(numpy.ceil(arr))\n",
    "\n",
    "print(numpy.rint(arr))"
   ]
  },
  {
   "cell_type": "markdown",
   "id": "0d48cdf7",
   "metadata": {},
   "source": [
    "# Sum and Prod"
   ]
  },
  {
   "cell_type": "code",
   "execution_count": null,
   "id": "12006328",
   "metadata": {},
   "outputs": [],
   "source": [
    "import numpy\n",
    "\n",
    "n, m = map(int, input().split())\n",
    "arr = numpy.array([input().split() for _ in range(n)], int)\n",
    "\n",
    "print(numpy.prod(numpy.sum(arr, axis=0)))\n"
   ]
  },
  {
   "cell_type": "markdown",
   "id": "ce87b906",
   "metadata": {},
   "source": [
    "# Min and Max"
   ]
  },
  {
   "cell_type": "code",
   "execution_count": null,
   "id": "b96d8aa8",
   "metadata": {},
   "outputs": [],
   "source": [
    "import numpy\n",
    "n, m = map(int, input().split())\n",
    "arr = numpy.array([input().split() for _ in range(n)], int)\n",
    "\n",
    "print(numpy.max(numpy.min(arr, axis=1)))"
   ]
  },
  {
   "cell_type": "markdown",
   "id": "32b2c8a7",
   "metadata": {},
   "source": [
    "# Mean, Var, and Std"
   ]
  },
  {
   "cell_type": "code",
   "execution_count": null,
   "id": "de9828db",
   "metadata": {},
   "outputs": [],
   "source": [
    "import numpy\n",
    "n, m = map(int, input().split())\n",
    "arr = numpy.array([input().split() for _ in range(n)], int)\n",
    "\n",
    "print(numpy.mean(arr, axis=1))\n",
    "print(numpy.var(arr, axis=0))\n",
    "print(round(numpy.std(arr), 11))"
   ]
  },
  {
   "cell_type": "markdown",
   "id": "f95f28c5",
   "metadata": {},
   "source": [
    "# Dot and Cross"
   ]
  },
  {
   "cell_type": "code",
   "execution_count": null,
   "id": "e20f09b8",
   "metadata": {},
   "outputs": [],
   "source": [
    "import numpy\n",
    "# Dot product -> Prodotto Scalare\n",
    "# Cross product -> Prodotto Vettoriale\n",
    "n = int(input())\n",
    "a = numpy.array([input().split() for _ in range(n)], int)\n",
    "b = numpy.array([input().split() for _ in range(n)], int)\n",
    "print(numpy.dot(a, b))\n"
   ]
  },
  {
   "cell_type": "markdown",
   "id": "9b0bdfc1",
   "metadata": {},
   "source": [
    "# Inner and Outer"
   ]
  },
  {
   "cell_type": "code",
   "execution_count": null,
   "id": "d1d3e1ef",
   "metadata": {},
   "outputs": [],
   "source": [
    "import numpy\n",
    "a = numpy.array(input().split(), int)\n",
    "b = numpy.array(input().split(), int)\n",
    "print(numpy.inner(a, b))\n",
    "print(numpy.outer(a, b))\n"
   ]
  },
  {
   "cell_type": "markdown",
   "id": "ada2835c",
   "metadata": {},
   "source": [
    "# Polynomials"
   ]
  },
  {
   "cell_type": "code",
   "execution_count": null,
   "id": "0b8f3f27",
   "metadata": {},
   "outputs": [],
   "source": [
    "import numpy\n",
    "print(numpy.polyval(numpy.array(input().split(), float), int(input())))\n"
   ]
  },
  {
   "cell_type": "markdown",
   "id": "938378f0",
   "metadata": {},
   "source": [
    "# Linear Algebra"
   ]
  },
  {
   "cell_type": "code",
   "execution_count": null,
   "id": "787027e9",
   "metadata": {},
   "outputs": [],
   "source": [
    "import numpy\n",
    "# eigenvalues and eigenvectors -> autovalori e autovettori\n",
    "n = int(input())\n",
    "arr = numpy.array([input().split() for _ in range(n)], float)\n",
    "print(round(numpy.linalg.det(arr), 2))\n"
   ]
  },
  {
   "cell_type": "markdown",
   "id": "bef7acb0",
   "metadata": {},
   "source": [
    "# **Regex**"
   ]
  },
  {
   "cell_type": "markdown",
   "id": "4d128da5",
   "metadata": {},
   "source": [
    "# Detect Floating Point Number"
   ]
  },
  {
   "cell_type": "code",
   "execution_count": null,
   "id": "e5fa89cf",
   "metadata": {},
   "outputs": [],
   "source": [
    "# Enter your code here. Read input from STDIN. Print output to STDOUT\n",
    "import re\n",
    "n = int(input())\n",
    "\n",
    "for i in range(n):\n",
    "    strnInput = input()\n",
    "\n",
    "    # ITALIAN NOTE ABOUT REGEX\n",
    "    # ^[+-.]? : string start with optional +, - or . simbol\n",
    "    # d+ : matches one or more digits\n",
    "    # | : to interconnect two rules by OR\n",
    "    # \\.\\d+ : dot followed by 1 or more decimal\n",
    "    # $ : end of string\n",
    "    print(bool(re.search(r\"^[+-]?(\\d+(\\.\\d+)|\\.\\d+)$\", strnInput)) and bool(float(strnInput)))\n"
   ]
  },
  {
   "cell_type": "markdown",
   "id": "5936564f",
   "metadata": {},
   "source": [
    "# Re.split()"
   ]
  },
  {
   "cell_type": "code",
   "execution_count": null,
   "id": "ccb171cc",
   "metadata": {},
   "outputs": [],
   "source": [
    "regex_pattern = r\"\"\t# Do not delete 'r'.\n",
    "\n",
    "import re\n",
    "print(\"\\n\".join(re.split(regex_pattern, input())))"
   ]
  },
  {
   "cell_type": "markdown",
   "id": "ca6ac4b8",
   "metadata": {},
   "source": [
    "# Group(), Groups() & Groupdict()"
   ]
  },
  {
   "cell_type": "code",
   "execution_count": null,
   "id": "dc96341b",
   "metadata": {},
   "outputs": [],
   "source": [
    "# Enter your code here. Read input from STDIN. Print output to STDOUT\n",
    "import re\n",
    "\n",
    "# ITALIAN NOTE ABOUT REGEX\n",
    "# [a-z0-9] : carattere o numero\n",
    "# \\1 : riferimento all'ultimo gruppo, in questo caso ([a-z0-9])\n",
    "# + : 1 o piu ricorrenze\n",
    "\n",
    "m = re.search(r'([a-z0-9])\\1+', input())\n",
    "print(-1) if m is None else print(m.group(1))\n"
   ]
  },
  {
   "cell_type": "markdown",
   "id": "8aad3bae",
   "metadata": {},
   "source": [
    "# Re.findall() & Re.finditer()"
   ]
  },
  {
   "cell_type": "code",
   "execution_count": null,
   "id": "9766b38f",
   "metadata": {},
   "outputs": [],
   "source": [
    "# Enter your code here. Read input from STDIN. Print output to STDOUT\n",
    "import re\n",
    "# N.B. ?= allow to capture overlapped substring like in \"baabaab\" which has 2 valid subs\n",
    "m = re.findall(r'(?=([QWRTYPSDFGHJKLZXCVBNMqwrtypsdfghjklzxcvbnm]{1}[AEIOUaeiou]{2,}[QWRTYPSDFGHJKLZXCVBNMqwrtypsdfghjklzxcvbnm]{1}))', input())\n",
    "if len(m) == 0:\n",
    "    print(-1)\n",
    "else:\n",
    "    for x in m:\n",
    "        print(x[1:-1])\n"
   ]
  },
  {
   "cell_type": "markdown",
   "id": "67eaf6e4",
   "metadata": {},
   "source": [
    "# Re.start() & Re.end()"
   ]
  },
  {
   "cell_type": "code",
   "execution_count": null,
   "id": "653de0d0",
   "metadata": {},
   "outputs": [],
   "source": [
    "# Enter your code here. Read input from STDIN. Print output to STDOUT\n",
    "import re\n",
    "\n",
    "def searchAll(pattern, strn):\n",
    "    # Will contains tuples of indices of substring that respect pattern\n",
    "    indexLst = []\n",
    "    # Used to advance in substring\n",
    "    startIdx = 0\n",
    "    \n",
    "    while True:\n",
    "        m = re.search(pattern, strn)\n",
    "        # If match is not None, append start and end indices to the list\n",
    "        # than, shift string and startIdx to remove the sub already evaluated\n",
    "        if m:\n",
    "            indexLst.append((startIdx + m.start(), startIdx + m.end() - 1))\n",
    "            # Shift strn and startIdx to search other matches\n",
    "            strn = strn[(m.start() + 1):]\n",
    "            startIdx += m.start() + 1\n",
    "        else:\n",
    "            return indexLst\n",
    "        \n",
    "strn = input()\n",
    "subStrn = input()\n",
    "lst = searchAll(subStrn, strn)\n",
    "if len(lst):\n",
    "    for x in lst:\n",
    "        print(x)\n",
    "else:\n",
    "    print((-1, -1))\n"
   ]
  },
  {
   "cell_type": "markdown",
   "id": "4a661f62",
   "metadata": {},
   "source": [
    "# Regex Substitution"
   ]
  },
  {
   "cell_type": "code",
   "execution_count": null,
   "id": "d6fc2610",
   "metadata": {},
   "outputs": [],
   "source": [
    "# Enter your code here. Read input from STDIN. Print output to STDOUT\n",
    "import re\n",
    "n = int(input())\n",
    "for _ in range(n):\n",
    "    strn = input()\n",
    "    \n",
    "    # Substitute \" && \" with \" and \" and repeat until no more in the string\n",
    "    while \" && \" in strn or \" || \" in strn:\n",
    "        strn = re.sub(r'\\s&&\\s', ' and ', strn)\n",
    "        strn = re.sub(r'\\s\\|\\|\\s', ' or ', strn)\n",
    "        \n",
    "    print(strn)\n"
   ]
  },
  {
   "cell_type": "markdown",
   "id": "66c48de7",
   "metadata": {},
   "source": [
    "# Validating Roman Numerals"
   ]
  },
  {
   "cell_type": "code",
   "execution_count": null,
   "id": "9f4dd771",
   "metadata": {},
   "outputs": [],
   "source": [
    "# Used ChatGPT to clean and correct my regex which was the following:\n",
    "# ^M{0,3}((C{0,3}M)|M?)((C{0,3}D)|D?)((X{0,3}L)|L?)(X{0,3}|C{0,3}X{0,3})((I{0,3}V)|V?)I{0,3}$\n",
    "\n",
    "# This regex gave me problems with the string \"DCCLXXXI\" but not others\n",
    "\n",
    "# Now i understand how to use group/parentheses and how to use ? for optionality\n",
    "\n",
    "regex_pattern = r\"^M{0,3}(CM|CD|D?C{0,3})(XM|XC|XL|L?X{0,3})(IX|IV|V?I{0,3})$\"\t# Do not delete 'r'."
   ]
  },
  {
   "cell_type": "markdown",
   "id": "1e66cc56",
   "metadata": {},
   "source": [
    "# Validating phone numbers"
   ]
  },
  {
   "cell_type": "code",
   "execution_count": null,
   "id": "84cf16e4",
   "metadata": {},
   "outputs": [],
   "source": [
    "# Enter your code here. Read input from STDIN. Print output to STDOUT\n",
    "import re\n",
    "n = int(input())\n",
    "for _ in range(n):\n",
    "    print(\"YES\") if re.match(r'^[789]([0-9]){9}$', input()) else print(\"NO\")\n"
   ]
  },
  {
   "cell_type": "markdown",
   "id": "e8dea980",
   "metadata": {},
   "source": [
    "# Validating and Parsing Email Addresses"
   ]
  },
  {
   "cell_type": "code",
   "execution_count": null,
   "id": "2e0f8810",
   "metadata": {},
   "outputs": [],
   "source": [
    "# Enter your code here. Read input from STDIN. Print output to STDOUT\n",
    "import re\n",
    "import email.utils\n",
    "n = int(input())\n",
    "for _ in range(n):\n",
    "    # .parseaddr gives back a tuple\n",
    "    values = email.utils.parseaddr(input())\n",
    "    \n",
    "    if bool(re.match(r'^[a-z][^!@]+@{1}[a-z]+[.][a-z]{0,3}$', values[1])):\n",
    "        print(email.utils.formataddr((values[0], values[1])))\n"
   ]
  },
  {
   "cell_type": "markdown",
   "id": "086b38aa",
   "metadata": {},
   "source": [
    "# Hex Color Code"
   ]
  },
  {
   "cell_type": "code",
   "execution_count": null,
   "id": "0b78da2b",
   "metadata": {},
   "outputs": [],
   "source": [
    "# Enter your code here. Read input from STDIN. Print output to STDOUT\n",
    "import re\n",
    "for _ in range(int(input())):\n",
    "    values = re.finditer(r'#[A-Fa-z0-9]{3}([A-Fa-z0-9]{3})?[;,)]', input())\n",
    "    \n",
    "    for x in values:\n",
    "        print(x.group(0)[:-1])"
   ]
  },
  {
   "cell_type": "markdown",
   "id": "76a1bcbc",
   "metadata": {},
   "source": [
    "# HTML Parser - Part 1"
   ]
  },
  {
   "cell_type": "code",
   "execution_count": null,
   "id": "661c75fa",
   "metadata": {},
   "outputs": [],
   "source": [
    "# Enter your code here. Read input from STDIN. Print output to STDOUT\n",
    "from html.parser import HTMLParser\n",
    "class MyHTMLParser(HTMLParser):\n",
    "    def handle_starttag(self, tag, attrs):\n",
    "        print (\"Start :\", tag)\n",
    "        # For loops to manage attributes of tag\n",
    "        for atName, atValue in attrs:\n",
    "            print(\"->\", atName, \">\", atValue)\n",
    "            \n",
    "    def handle_endtag(self, tag):\n",
    "        # Justified to match \"start\" and \"empty\" spacing\n",
    "        print (\"End\", \":\".rjust(3, \" \"), tag)\n",
    "        \n",
    "    def handle_startendtag(self, tag, attrs):\n",
    "        print (\"Empty :\", tag)\n",
    "        # For loops to manage attributes of tag\n",
    "        for atName, atValue in attrs:\n",
    "            print(\"->\", atName, \">\", atValue)\n",
    "n = int(input())\n",
    "parser = MyHTMLParser()\n",
    "for _ in range(n):\n",
    "    parser.feed(input())\n"
   ]
  },
  {
   "cell_type": "markdown",
   "id": "6fe5004d",
   "metadata": {},
   "source": [
    "# HTML Parser - Part 2"
   ]
  },
  {
   "cell_type": "code",
   "execution_count": null,
   "id": "7a4bec4b",
   "metadata": {},
   "outputs": [],
   "source": [
    "from html.parser import HTMLParser\n",
    "import re\n",
    "class MyHTMLParser(HTMLParser):\n",
    "    # Handle comment\n",
    "    def handle_comment(self, data):\n",
    "        data = [i for i in data.split(\"\\n\") if i != \"\"]\n",
    "        \n",
    "        print(\">>> Multi-line Comment\") if len(data) > 1 else print(\">>> Single-line Comment\")\n",
    "        \n",
    "        for x in data:\n",
    "            print(x)\n",
    "            \n",
    "    # Handle data\n",
    "    def handle_data(self, data):\n",
    "        # Split for \"\\n\" char and filter empty strings\n",
    "        data = [i for i in data.split(\"\\n\") if i != \"\"]\n",
    "        \n",
    "        if len(data):\n",
    "            print(\">>> Data\")\n",
    "            for x in data:\n",
    "                print(x)\n",
    "html = \"\"       \n",
    "for i in range(int(input())):\n",
    "    html += input().rstrip()\n",
    "    html += '\\n'\n",
    "    \n",
    "parser = MyHTMLParser()\n",
    "parser.feed(html)\n",
    "parser.close()\n"
   ]
  },
  {
   "cell_type": "markdown",
   "id": "e6a7145d",
   "metadata": {},
   "source": [
    "# Detect HTML Tags, Attributes and Attribute Values"
   ]
  },
  {
   "cell_type": "code",
   "execution_count": null,
   "id": "e400acb9",
   "metadata": {},
   "outputs": [],
   "source": [
    "# Enter your code here. Read input from STDIN. Print output to STDOUT\n",
    "from html.parser import HTMLParser\n",
    "class MyHTMLParser(HTMLParser):\n",
    "    def handle_starttag(self, tag, attrs):\n",
    "        print(tag)\n",
    "        # For to manage attributes of tag\n",
    "        for atName, atValue in attrs:\n",
    "            print(\"->\", atName, \">\", atValue)\n",
    "        \n",
    "    def handle_startendtag(self, tag, attrs):\n",
    "        print(tag)\n",
    "        # For to manage attributes of tag\n",
    "        for atName, atValue in attrs:\n",
    "            print(\"->\", atName, \">\", atValue)\n",
    "n = int(input())\n",
    "parser = MyHTMLParser()\n",
    "for _ in range(n):\n",
    "    parser.feed(input())\n"
   ]
  },
  {
   "cell_type": "markdown",
   "id": "cf219ddd",
   "metadata": {},
   "source": [
    "# Validating UID"
   ]
  },
  {
   "cell_type": "code",
   "execution_count": null,
   "id": "f6466cd0",
   "metadata": {},
   "outputs": [],
   "source": [
    "# Enter your code here. Read input from STDIN. Print output to STDOUT\n",
    "import re\n",
    "for _ in range(int(input())):\n",
    "    if re.match(r\"^(?!.*(.).*\\1)(?=(?:[^A-Z]*[A-Z]){2,})(?=(?:[^0-9]*\\d){3,})[A-Za-z0-9]{10}$\", input()):\n",
    "        print(\"Valid\")\n",
    "    else: print(\"Invalid\")\n"
   ]
  },
  {
   "cell_type": "markdown",
   "id": "6303987f",
   "metadata": {},
   "source": [
    "# Validating Postal Codes"
   ]
  },
  {
   "cell_type": "code",
   "execution_count": null,
   "id": "64e47a59",
   "metadata": {},
   "outputs": [],
   "source": [
    "regex_integer_in_range = r\"^[1-9][0-9][0-9][0-9][0-9][0-9]$\"\t# Do not delete 'r'.\n",
    "regex_alternating_repetitive_digit_pair = r\"(?=(\\d).{1}\\1)\"\t# Do not delete 'r'.\n"
   ]
  },
  {
   "cell_type": "markdown",
   "id": "b5388f6e",
   "metadata": {},
   "source": [
    "# Matrix Script"
   ]
  },
  {
   "cell_type": "code",
   "execution_count": null,
   "id": "3e679a0e",
   "metadata": {},
   "outputs": [],
   "source": [
    "import math\n",
    "import os\n",
    "import random\n",
    "import re\n",
    "import sys\n",
    "first_multiple_input = input().rstrip().split()\n",
    "n = int(first_multiple_input[0])\n",
    "m = int(first_multiple_input[1])\n",
    "matrix = []\n",
    "splitMatrix = []\n",
    "    \n",
    "for _ in range(n):\n",
    "    splitMatrix.append(list(input()))\n",
    "# Create a zip to merge columns and convert to list\n",
    "zippedChar = list(zip(*splitMatrix))\n",
    "# Convert this list of tuples in a list of chars\n",
    "strn = [i for sub in zippedChar for i in sub]\n",
    "# Convert this list of chars in a string\n",
    "finalStrn = \"\".join(strn)\n",
    "print(re.sub(r\"(\\w+)([\\W]+)(?=\\w+)\", r\"\\1 \", finalStrn))\n"
   ]
  },
  {
   "cell_type": "markdown",
   "id": "7cab2ed0",
   "metadata": {},
   "source": [
    "# Validating Credit Card numbers"
   ]
  },
  {
   "cell_type": "code",
   "execution_count": null,
   "id": "2141a0b0",
   "metadata": {},
   "outputs": [],
   "source": [
    "# Enter your code here. Read input from STDIN. Print output to STDOUT\n",
    "import re\n",
    "n = int(input())\n",
    "\n",
    "for t in range(n):\n",
    "    credit = input().strip()\n",
    "    credit_removed_hiphen = credit.replace('-','')\n",
    "    valid = True\n",
    "\n",
    "    length_16 = bool(re.match(r'^[4-6]\\d{15}$',credit))\n",
    "    length_19 = bool(re.match(r'^[4-6]\\d{3}-\\d{4}-\\d{4}-\\d{4}$',credit))   \n",
    "\n",
    "    consecutive = bool(re.findall(r'(?=(\\d)\\1\\1\\1)',credit_removed_hiphen))\n",
    "    \n",
    "    if length_16 == True or length_19 == True:\n",
    "        if consecutive == True:\n",
    "            valid=False\n",
    "    else:\n",
    "        valid = False       \n",
    "    if valid == True:\n",
    "        print('Valid')\n",
    "    else:\n",
    "        print('Invalid')"
   ]
  },
  {
   "cell_type": "markdown",
   "id": "b3fdee3f",
   "metadata": {},
   "source": [
    "# **Decorators**"
   ]
  },
  {
   "cell_type": "markdown",
   "id": "619e60e6",
   "metadata": {},
   "source": [
    "# Standardize Mobile Number Using Decorators"
   ]
  },
  {
   "cell_type": "code",
   "execution_count": null,
   "id": "1ed480de",
   "metadata": {},
   "outputs": [],
   "source": [
    "import re\n",
    "from textwrap import wrap\n",
    "def wrapper(f):\n",
    "    def fun(l):\n",
    "        \n",
    "        # Step 1: Use re.sub() to remove (0|91|+91)\n",
    "        # Step 2: Split string in substrings of 5, separate them with \" \" and join them.\n",
    "        # Step 3: Add \"+91\" to this string\n",
    "        # Step 4: Call sort_phone(l) function passing the new list of strings created\n",
    "        \n",
    "        f([\"+91 \" + \" \".join(wrap(re.sub(r\"^(0|91|[+]91)(?=[0-9]{10})\", \"\", x), 5)) for x in l])\n",
    "            \n",
    "    return fun\n"
   ]
  },
  {
   "cell_type": "markdown",
   "id": "3d3be5e6",
   "metadata": {},
   "source": [
    "# Decorators 2 - Name Directory"
   ]
  },
  {
   "cell_type": "code",
   "execution_count": null,
   "id": "94d20951",
   "metadata": {},
   "outputs": [],
   "source": [
    "\n",
    "def person_lister(f):\n",
    "    def inner(people):\n",
    "        \n",
    "        peopleDict = {}\n",
    "        \n",
    "        # Make a dictionary of person using age as key\n",
    "        for pers in people:\n",
    "            try:\n",
    "                peopleDict[int(pers[2])].append(\" \".join(x for x in pers))\n",
    "            except KeyError:\n",
    "                peopleDict[int(pers[2])] = [\" \".join(x for x in pers)]\n",
    "                \n",
    "        # Sort the dictionary by key (so by age) and then pass as param every sorted person\n",
    "        # to name_format function\n",
    "        return [f(list(z.split())) for x, y in sorted(peopleDict.items()) for z in y]\n",
    "    return inner\n"
   ]
  },
  {
   "cell_type": "markdown",
   "id": "a3ecd09e",
   "metadata": {},
   "source": [
    "# **PROBLEM 2**"
   ]
  },
  {
   "cell_type": "markdown",
   "id": "1b0f1021",
   "metadata": {},
   "source": [
    "# Birthday Cake Candles"
   ]
  },
  {
   "cell_type": "code",
   "execution_count": null,
   "id": "ae2a5b9e",
   "metadata": {},
   "outputs": [],
   "source": [
    "#!/bin/python3\n",
    "import math\n",
    "import os\n",
    "import random\n",
    "import re\n",
    "import sys\n",
    "#\n",
    "# Complete the 'birthdayCakeCandles' function below.\n",
    "#\n",
    "# The function is expected to return an INTEGER.\n",
    "# The function accepts INTEGER_ARRAY candles as parameter.\n",
    "#\n",
    "def birthdayCakeCandles(candles):\n",
    "    # Write your code here\n",
    "    return candles.count(max(candles))\n",
    "    \n",
    "if __name__ == '__main__':\n",
    "    fptr = open(os.environ['OUTPUT_PATH'], 'w')\n",
    "    candles_count = int(input().strip())\n",
    "    candles = list(map(int, input().rstrip().split()))\n",
    "    result = birthdayCakeCandles(candles)\n",
    "    fptr.write(str(result) + '\\n')\n",
    "    fptr.close()\n"
   ]
  },
  {
   "cell_type": "markdown",
   "id": "fa6a1c06",
   "metadata": {},
   "source": [
    "# Number Line Jumps"
   ]
  },
  {
   "cell_type": "code",
   "execution_count": null,
   "id": "60620522",
   "metadata": {},
   "outputs": [],
   "source": [
    "#!/bin/python3\n",
    "import math\n",
    "import os\n",
    "import random\n",
    "import re\n",
    "import sys\n",
    "#\n",
    "# Complete the 'kangaroo' function below.\n",
    "#\n",
    "# The function is expected to return a STRING.\n",
    "# The function accepts following parameters:\n",
    "#  1. INTEGER x1\n",
    "#  2. INTEGER v1\n",
    "#  3. INTEGER x2\n",
    "#  4. INTEGER v2\n",
    "#\n",
    "def kangaroo(x1, v1, x2, v2):\n",
    "    # Write your code here\n",
    "    \n",
    "    # In this case first kangaroo will never catch second one, so return NO\n",
    "    if x1 < x2 and v1 <= v2:\n",
    "        return \"NO\"\n",
    "    \n",
    "    # Resolve a linear equation of grade 1, if solution is integer means that kangoroos will meet, if float they will never meet\n",
    "\n",
    "    # In case that condition equals 0 (so condition is False) return YES given module of 1 is 0\n",
    "    # so kangoroos will meet at some point in the other case, return NO\n",
    "    if (abs(x1-x2) / abs(v1-v2)) % 1:\n",
    "        return \"NO\"\n",
    "    else:\n",
    "        return \"YES\"\n",
    "    \n",
    "if __name__ == '__main__':\n",
    "    fptr = open(os.environ['OUTPUT_PATH'], 'w')\n",
    "    first_multiple_input = input().rstrip().split()\n",
    "    x1 = int(first_multiple_input[0])\n",
    "    v1 = int(first_multiple_input[1])\n",
    "    x2 = int(first_multiple_input[2])\n",
    "    v2 = int(first_multiple_input[3])\n",
    "    result = kangaroo(x1, v1, x2, v2)\n",
    "    fptr.write(result + '\\n')\n",
    "    fptr.close()\n"
   ]
  },
  {
   "cell_type": "markdown",
   "id": "ed99c7ba",
   "metadata": {},
   "source": [
    "# Viral Advertising"
   ]
  },
  {
   "cell_type": "code",
   "execution_count": null,
   "id": "79c95634",
   "metadata": {},
   "outputs": [],
   "source": [
    "#!/bin/python3\n",
    "import math\n",
    "import os\n",
    "import random\n",
    "import re\n",
    "import sys\n",
    "#\n",
    "# Complete the 'viralAdvertising' function below.\n",
    "#\n",
    "# The function is expected to return an INTEGER.\n",
    "# The function accepts INTEGER n as parameter.\n",
    "#\n",
    "def viralAdvertising(n, floorRes, cumulative):\n",
    "    # Write your code here\n",
    "    \n",
    "    # If we iterated over the given number of operations, return cumulative likes\n",
    "    if n == 0:\n",
    "        return cumulative\n",
    "        \n",
    "    # Each step, calculate the shared like of the day shared of the day (floor value of the current day * 3)\n",
    "    # and the cumulative (cumulative of the day before + floor value of the current day)\n",
    "    # then recursively call for the next day passing the updated shared and cumulative values\n",
    "    else:\n",
    "        floorVal = math.floor(floorRes/2)\n",
    "        return viralAdvertising(n-1, floorVal * 3, cumulative + floorVal)\n",
    "    \n",
    "if __name__ == '__main__':\n",
    "    fptr = open(os.environ['OUTPUT_PATH'], 'w')\n",
    "    n = int(input().strip())\n",
    "    result = viralAdvertising(n, 5, 0)\n",
    "    fptr.write(str(result) + '\\n')\n",
    "    fptr.close()\n"
   ]
  },
  {
   "cell_type": "markdown",
   "id": "fe25ed20",
   "metadata": {},
   "source": [
    "# Recursive Digit Sum"
   ]
  },
  {
   "cell_type": "code",
   "execution_count": null,
   "id": "7f654e95",
   "metadata": {},
   "outputs": [],
   "source": [
    "#!/bin/python3\n",
    "import math\n",
    "import os\n",
    "import random\n",
    "import re\n",
    "import sys\n",
    "#\n",
    "# Complete the 'superDigit' function below.\n",
    "#\n",
    "# The function is expected to return an INTEGER.\n",
    "# The function accepts following parameters:\n",
    "#  1. STRING n\n",
    "#  2. INTEGER k\n",
    "#\n",
    "# Auxiliary function to sum every digit in a number\n",
    "# useful for large number like in test 7, 8, 9\n",
    "def sumDigits(n):\n",
    "    return sum(map(int, list(n)))\n",
    "\n",
    "# Digital Root\n",
    "def digitalRoot(n):\n",
    "    if n == 0:\n",
    "        return 0\n",
    "    elif n % 9 == 0 and n != 0:\n",
    "        return 9\n",
    "    else:\n",
    "        return n % 9\n",
    "    \n",
    "def superDigit(n, k):\n",
    "    # Write your code here\n",
    "    \n",
    "    # This problem is solvable using the concept of \"radice numerica\" and \"prova del nove\"\n",
    "    # it.wikipedia.org/wiki/Radice_numerica\n",
    "\n",
    "    return digitalRoot(digitalRoot(int(sumDigits(n))) * k)\n",
    "    \n",
    "if __name__ == '__main__':\n",
    "    fptr = open(os.environ['OUTPUT_PATH'], 'w')\n",
    "    first_multiple_input = input().rstrip().split()\n",
    "    n = first_multiple_input[0]\n",
    "    k = int(first_multiple_input[1])\n",
    "    result = superDigit(n, k)\n",
    "    fptr.write(str(result) + '\\n')\n",
    "    fptr.close()\n"
   ]
  },
  {
   "cell_type": "markdown",
   "id": "c815ac2a",
   "metadata": {},
   "source": [
    "# Insertion Sort - Part 1"
   ]
  },
  {
   "cell_type": "code",
   "execution_count": null,
   "id": "08eb9a82",
   "metadata": {},
   "outputs": [],
   "source": [
    "#!/bin/python3\n",
    "import math\n",
    "import os\n",
    "import random\n",
    "import re\n",
    "import sys\n",
    "#\n",
    "# Complete the 'insertionSort1' function below.\n",
    "#\n",
    "# The function accepts following parameters:\n",
    "#  1. INTEGER n\n",
    "#  2. INTEGER_ARRAY arr\n",
    "#\n",
    "def insertionSort1(n, arr):\n",
    "    # Write your code here\n",
    "    numToSort = arr[n-1]\n",
    "    \n",
    "    for i in range(2, n + 2):\n",
    "        # End of array reached, so the number to sort is in the first position\n",
    "        if i == n + 1:\n",
    "            arr[0] = numToSort\n",
    "            print(\" \".join(str(x) for x in arr))\n",
    "            break\n",
    "        # Bigger number found\n",
    "        elif arr[n - i] > numToSort:\n",
    "            arr[n - i + 1] = arr[n - i]\n",
    "            # Print Array\n",
    "            print(\" \".join(str(x) for x in arr))\n",
    "        # Sorted position found\n",
    "        else: \n",
    "            arr[n - i + 1] = numToSort\n",
    "            # Print Array\n",
    "            print(\" \".join(str(x) for x in arr))\n",
    "            break\n",
    "            \n",
    "            \n",
    "        \n",
    "if __name__ == '__main__':\n",
    "    n = int(input().strip())\n",
    "    arr = list(map(int, input().rstrip().split()))\n",
    "    insertionSort1(n, arr)\n"
   ]
  },
  {
   "cell_type": "markdown",
   "id": "15eef6a5",
   "metadata": {},
   "source": [
    "# Insertion Sort - Part 2"
   ]
  },
  {
   "cell_type": "code",
   "execution_count": null,
   "id": "8e6b387b",
   "metadata": {},
   "outputs": [],
   "source": [
    "#!/bin/python3\n",
    "import math\n",
    "import os\n",
    "import random\n",
    "import re\n",
    "import sys\n",
    "#\n",
    "# Complete the 'insertionSort2' function below.\n",
    "#\n",
    "# The function accepts following parameters:\n",
    "#  1. INTEGER n\n",
    "#  2. INTEGER_ARRAY arr\n",
    "#\n",
    "# Slightly modified insertionSort1\n",
    "def insertionSort1(n, arr):\n",
    "    # Write your code here\n",
    "    numToSort = arr[n-1]\n",
    "    \n",
    "    for i in range(2, n + 2):\n",
    "        # End of array reached, so the number to sort is in the first position\n",
    "        if i == n + 1:\n",
    "            arr[1] = arr[0]\n",
    "            arr[0] = numToSort\n",
    "            break\n",
    "        # Bigger number found\n",
    "        elif arr[n - i] > numToSort:\n",
    "            arr[n - i + 1] = arr[n - i]\n",
    "            # Print Array\n",
    "        # Sorted position found\n",
    "        else:\n",
    "            arr[n - i + 1] = numToSort\n",
    "            break\n",
    "def insertionSort2(n, arr):\n",
    "    # Write your code here\n",
    "    \n",
    "    for i in range(1, n):\n",
    "        if arr[i - 1] > arr[i]:\n",
    "            insertionSort1(i + 1, arr)\n",
    "            \n",
    "        print(\" \".join(str(x) for x in arr))\n",
    "if __name__ == '__main__':\n",
    "    n = int(input().strip())\n",
    "    arr = list(map(int, input().rstrip().split()))\n",
    "    insertionSort2(n, arr)\n"
   ]
  }
 ],
 "metadata": {
  "kernelspec": {
   "display_name": "Python 3",
   "language": "python",
   "name": "python3"
  },
  "language_info": {
   "codemirror_mode": {
    "name": "ipython",
    "version": 3
   },
   "file_extension": ".py",
   "mimetype": "text/x-python",
   "name": "python",
   "nbconvert_exporter": "python",
   "pygments_lexer": "ipython3",
   "version": "3.12.1"
  }
 },
 "nbformat": 4,
 "nbformat_minor": 5
}
